{
 "cells": [
  {
   "cell_type": "code",
   "execution_count": 1,
   "metadata": {},
   "outputs": [],
   "source": [
    "import json"
   ]
  },
  {
   "cell_type": "code",
   "execution_count": 4,
   "metadata": {},
   "outputs": [
    {
     "name": "stdout",
     "output_type": "stream",
     "text": [
      "636\n"
     ]
    }
   ],
   "source": [
    "with open('../datasets/ssl_train_data/argmax_w_all_answersets_with_intersection.json', 'r') as f:\n",
    "    data_pseudo_labeled = json.load(f)\n",
    "    \n",
    "print(len(data_pseudo_labeled))"
   ]
  },
  {
   "cell_type": "code",
   "execution_count": 8,
   "metadata": {},
   "outputs": [],
   "source": [
    "for line in data_pseudo_labeled:\n",
    "    line.pop('eweights', None)\n",
    "    line.pop('rweights', None)"
   ]
  },
  {
   "cell_type": "code",
   "execution_count": 9,
   "metadata": {},
   "outputs": [
    {
     "data": {
      "text/plain": [
       "{'tokens': ['Newspaper',\n",
       "  '`',\n",
       "  'Explains',\n",
       "  \"'\",\n",
       "  'U.S.',\n",
       "  'Interests',\n",
       "  'Section',\n",
       "  'Events',\n",
       "  'FL1402001894',\n",
       "  'Havana',\n",
       "  'Radio',\n",
       "  'Reloj',\n",
       "  'Network',\n",
       "  'in',\n",
       "  'Spanish',\n",
       "  '2100',\n",
       "  'GMT',\n",
       "  '13',\n",
       "  'Feb',\n",
       "  '94'],\n",
       " 'entities': [[15, 17, 'Other'],\n",
       "  [4, 5, 'Loc'],\n",
       "  [10, 13, 'Org'],\n",
       "  [9, 10, 'Loc'],\n",
       "  [17, 20, 'Other']],\n",
       " 'relations': [[10, 13, 9, 10, 'OrgBased_In'], [10, 13, 4, 5, 'OrgBased_In']]}"
      ]
     },
     "execution_count": 9,
     "metadata": {},
     "output_type": "execute_result"
    }
   ],
   "source": [
    "data_pseudo_labeled[0]"
   ]
  },
  {
   "cell_type": "code",
   "execution_count": 5,
   "metadata": {},
   "outputs": [
    {
     "name": "stdout",
     "output_type": "stream",
     "text": [
      "276\n"
     ]
    }
   ],
   "source": [
    "with open('../datasets/unified/train.CoNLL04_30_labeled.json', 'r') as f:\n",
    "    data_labeled = json.load(f)\n",
    "    \n",
    "print(len(data_labeled))"
   ]
  },
  {
   "cell_type": "code",
   "execution_count": 10,
   "metadata": {},
   "outputs": [],
   "source": [
    "data = data_labeled + data_pseudo_labeled"
   ]
  },
  {
   "cell_type": "code",
   "execution_count": 11,
   "metadata": {},
   "outputs": [
    {
     "data": {
      "text/plain": [
       "912"
      ]
     },
     "execution_count": 11,
     "metadata": {},
     "output_type": "execute_result"
    }
   ],
   "source": [
    "len(data)"
   ]
  },
  {
   "cell_type": "code",
   "execution_count": 12,
   "metadata": {},
   "outputs": [],
   "source": [
    "with open('../datasets/ssl_train_data/argmax_w_all_answersets_with_intersection_and_labeled.json', 'w') as f:\n",
    "    json.dump(data, f)"
   ]
  },
  {
   "cell_type": "code",
   "execution_count": null,
   "metadata": {},
   "outputs": [],
   "source": []
  }
 ],
 "metadata": {
  "kernelspec": {
   "display_name": "Python 3",
   "language": "python",
   "name": "python3"
  },
  "language_info": {
   "codemirror_mode": {
    "name": "ipython",
    "version": 3
   },
   "file_extension": ".py",
   "mimetype": "text/x-python",
   "name": "python",
   "nbconvert_exporter": "python",
   "pygments_lexer": "ipython3",
   "version": "3.8.5"
  }
 },
 "nbformat": 4,
 "nbformat_minor": 4
}
